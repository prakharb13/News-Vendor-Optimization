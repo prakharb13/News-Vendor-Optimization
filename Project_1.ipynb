{
 "cells": [
  {
   "cell_type": "code",
   "execution_count": 38,
   "id": "ac55b4f3",
   "metadata": {},
   "outputs": [],
   "source": [
    "import pandas as pd\n",
    "import numpy as np\n",
    "import matplotlib.pyplot as plt\n",
    "import gurobipy as gp\n",
    "from sklearn.linear_model import LinearRegression\n",
    "from sklearn.metrics import r2_score\n",
    "from scipy.stats import shapiro"
   ]
  },
  {
   "cell_type": "code",
   "execution_count": 39,
   "id": "3290171c",
   "metadata": {},
   "outputs": [
    {
     "data": {
      "text/html": [
       "<div>\n",
       "<style scoped>\n",
       "    .dataframe tbody tr th:only-of-type {\n",
       "        vertical-align: middle;\n",
       "    }\n",
       "\n",
       "    .dataframe tbody tr th {\n",
       "        vertical-align: top;\n",
       "    }\n",
       "\n",
       "    .dataframe thead th {\n",
       "        text-align: right;\n",
       "    }\n",
       "</style>\n",
       "<table border=\"1\" class=\"dataframe\">\n",
       "  <thead>\n",
       "    <tr style=\"text-align: right;\">\n",
       "      <th></th>\n",
       "      <th>price</th>\n",
       "      <th>demand</th>\n",
       "    </tr>\n",
       "  </thead>\n",
       "  <tbody>\n",
       "    <tr>\n",
       "      <th>0</th>\n",
       "      <td>1.05</td>\n",
       "      <td>283</td>\n",
       "    </tr>\n",
       "    <tr>\n",
       "      <th>1</th>\n",
       "      <td>0.86</td>\n",
       "      <td>771</td>\n",
       "    </tr>\n",
       "    <tr>\n",
       "      <th>2</th>\n",
       "      <td>1.21</td>\n",
       "      <td>185</td>\n",
       "    </tr>\n",
       "    <tr>\n",
       "      <th>3</th>\n",
       "      <td>0.94</td>\n",
       "      <td>531</td>\n",
       "    </tr>\n",
       "    <tr>\n",
       "      <th>4</th>\n",
       "      <td>0.76</td>\n",
       "      <td>1002</td>\n",
       "    </tr>\n",
       "    <tr>\n",
       "      <th>...</th>\n",
       "      <td>...</td>\n",
       "      <td>...</td>\n",
       "    </tr>\n",
       "    <tr>\n",
       "      <th>94</th>\n",
       "      <td>1.13</td>\n",
       "      <td>321</td>\n",
       "    </tr>\n",
       "    <tr>\n",
       "      <th>95</th>\n",
       "      <td>0.78</td>\n",
       "      <td>970</td>\n",
       "    </tr>\n",
       "    <tr>\n",
       "      <th>96</th>\n",
       "      <td>1.04</td>\n",
       "      <td>387</td>\n",
       "    </tr>\n",
       "    <tr>\n",
       "      <th>97</th>\n",
       "      <td>1.02</td>\n",
       "      <td>831</td>\n",
       "    </tr>\n",
       "    <tr>\n",
       "      <th>98</th>\n",
       "      <td>1.11</td>\n",
       "      <td>451</td>\n",
       "    </tr>\n",
       "  </tbody>\n",
       "</table>\n",
       "<p>99 rows × 2 columns</p>\n",
       "</div>"
      ],
      "text/plain": [
       "    price  demand\n",
       "0    1.05     283\n",
       "1    0.86     771\n",
       "2    1.21     185\n",
       "3    0.94     531\n",
       "4    0.76    1002\n",
       "..    ...     ...\n",
       "94   1.13     321\n",
       "95   0.78     970\n",
       "96   1.04     387\n",
       "97   1.02     831\n",
       "98   1.11     451\n",
       "\n",
       "[99 rows x 2 columns]"
      ]
     },
     "execution_count": 39,
     "metadata": {},
     "output_type": "execute_result"
    }
   ],
   "source": [
    "price_demand_df = pd.read_csv('price_demand_data.csv')\n",
    "price_demand_df"
   ]
  },
  {
   "cell_type": "markdown",
   "id": "5309e144",
   "metadata": {},
   "source": [
    "#### Q1\n",
    "Linear Regression on Price and Demand"
   ]
  },
  {
   "cell_type": "code",
   "execution_count": 40,
   "id": "abf67858",
   "metadata": {},
   "outputs": [
    {
     "data": {
      "text/plain": [
       "0.6214724117783329"
      ]
     },
     "execution_count": 40,
     "metadata": {},
     "output_type": "execute_result"
    }
   ],
   "source": [
    "lr = LinearRegression()\n",
    "lr.fit(price_demand_df[['price']],price_demand_df.demand.values)\n",
    "r2_score(price_demand_df.demand.values,lr.predict(price_demand_df[['price']]))"
   ]
  },
  {
   "cell_type": "markdown",
   "id": "d75ef5b6",
   "metadata": {},
   "source": [
    "#### Q2\n",
    "Generate Demand data using residuals and p=1"
   ]
  },
  {
   "cell_type": "code",
   "execution_count": 41,
   "id": "0e085d9f",
   "metadata": {},
   "outputs": [],
   "source": [
    "resid = price_demand_df.demand.values - lr.predict(price_demand_df[['price']])"
   ]
  },
  {
   "cell_type": "code",
   "execution_count": 42,
   "id": "16e83950",
   "metadata": {},
   "outputs": [
    {
     "data": {
      "text/plain": [
       "ShapiroResult(statistic=0.9835943579673767, pvalue=0.25649407505989075)"
      ]
     },
     "execution_count": 42,
     "metadata": {},
     "output_type": "execute_result"
    }
   ],
   "source": [
    "# Test for normality\n",
    "shapiro(resid)"
   ]
  },
  {
   "cell_type": "code",
   "execution_count": 118,
   "id": "30d0212b",
   "metadata": {},
   "outputs": [
    {
     "data": {
      "text/plain": [
       "array([357.5116295 , 585.64624991, 478.34563336, 455.06325184,\n",
       "       679.87499749])"
      ]
     },
     "execution_count": 118,
     "metadata": {},
     "output_type": "execute_result"
    }
   ],
   "source": [
    "#port_return = np.random.normal(size = 99, loc = np.mean(resid), scale = np.std(resid))\n",
    "demand_data = resid + (lr.intercept_ + [1]*lr.coef_)\n",
    "demand_data[:5]"
   ]
  },
  {
   "cell_type": "markdown",
   "id": "2371e574",
   "metadata": {},
   "source": [
    "#### Q3"
   ]
  },
  {
   "cell_type": "markdown",
   "id": "574704f2",
   "metadata": {},
   "source": [
    "#### Costs"
   ]
  },
  {
   "cell_type": "code",
   "execution_count": 48,
   "id": "50faac97",
   "metadata": {},
   "outputs": [],
   "source": [
    "#Rushed print cost\n",
    "g = 0.75\n",
    "c = .5\n",
    "t = 0.15"
   ]
  },
  {
   "cell_type": "markdown",
   "id": "724d8395",
   "metadata": {},
   "source": [
    "#### Objective Function\n",
    "Maximize (pD - qc - g(D-q) - t(q-d)) for given q based on last 100 days of demand and price data"
   ]
  },
  {
   "cell_type": "markdown",
   "id": "09b2c056",
   "metadata": {},
   "source": [
    "#### Constraints\n",
    "We create a new variable (h) which denotes the total profit for that day such that<br>\n",
    "h <= pD - cq - t(q-D)<br>\n",
    "h <= pD - cq - tq + tD<br>\n",
    "(c+t)q + h <= pD+tD<br>\n",
    "\n",
    "h <= pD - cq - g(D-q)<br>\n",
    "h <= pD - cq - gD + gq<br>\n",
    "(c-g)q + h <= pD - gD <br>\n",
    "\n",
    "h >= -inf<br>\n",
    "q >= 0<br>\n"
   ]
  },
  {
   "cell_type": "markdown",
   "id": "a498131e",
   "metadata": {},
   "source": [
    "#### Coding NewsVendor Problem"
   ]
  },
  {
   "cell_type": "code",
   "execution_count": 49,
   "id": "f2a18957",
   "metadata": {},
   "outputs": [
    {
     "data": {
      "text/plain": [
       "99"
      ]
     },
     "execution_count": 49,
     "metadata": {},
     "output_type": "execute_result"
    }
   ],
   "source": [
    "nd = price_demand_df.shape[0] # number of days of demand data\n",
    "nd"
   ]
  },
  {
   "cell_type": "code",
   "execution_count": 50,
   "id": "e17c10cb",
   "metadata": {},
   "outputs": [],
   "source": [
    "# decision variables are (q, h1, h2, ..., h25)\n",
    "obj = np.zeros(nd+1)\n",
    "obj[1:] = 1.0/nd\n",
    "lb = np.zeros(nd+1)\n",
    "lb[1:] = -np.inf # quantity printed needs to be non-negative, but profit on a given day could possibly be negative\n",
    "rhs = np.zeros(2*nd)\n",
    "direction = np.array(['<']*(2*nd))"
   ]
  },
  {
   "cell_type": "code",
   "execution_count": 51,
   "id": "69b2a8b0",
   "metadata": {},
   "outputs": [],
   "source": [
    "A = np.zeros((2*nd,nd+1))\n",
    "for r in range(nd):\n",
    "    A[2*r,[0,r+1]] = [c+t,1] # location 1 is q, location r+1 is this h\n",
    "    rhs[2*r] = (1+t)*demand_data[r]\n",
    "    A[2*r+1,[0,r+1]] = [c-g,1]\n",
    "    rhs[2*r+1] = (1-g)*demand_data[r]"
   ]
  },
  {
   "cell_type": "code",
   "execution_count": 120,
   "id": "dd5435d1",
   "metadata": {},
   "outputs": [
    {
     "name": "stdout",
     "output_type": "stream",
     "text": [
      "[-9.44524325e+02 -2.50000000e-01  1.00000000e+00  0.00000000e+00\n",
      "  0.00000000e+00  0.00000000e+00  0.00000000e+00  0.00000000e+00\n",
      "  0.00000000e+00  0.00000000e+00  0.00000000e+00  0.00000000e+00\n",
      "  0.00000000e+00  0.00000000e+00  0.00000000e+00  0.00000000e+00\n",
      "  0.00000000e+00  0.00000000e+00  0.00000000e+00  0.00000000e+00\n",
      "  0.00000000e+00  0.00000000e+00  0.00000000e+00  0.00000000e+00\n",
      "  0.00000000e+00  0.00000000e+00  0.00000000e+00  0.00000000e+00\n",
      "  0.00000000e+00  0.00000000e+00  0.00000000e+00  0.00000000e+00\n",
      "  0.00000000e+00  0.00000000e+00  0.00000000e+00  0.00000000e+00\n",
      "  0.00000000e+00  0.00000000e+00  0.00000000e+00  0.00000000e+00\n",
      "  0.00000000e+00  0.00000000e+00  0.00000000e+00  0.00000000e+00\n",
      "  0.00000000e+00  0.00000000e+00  0.00000000e+00  0.00000000e+00\n",
      "  0.00000000e+00  0.00000000e+00  0.00000000e+00  0.00000000e+00\n",
      "  0.00000000e+00  0.00000000e+00  0.00000000e+00  0.00000000e+00\n",
      "  0.00000000e+00  0.00000000e+00  0.00000000e+00  0.00000000e+00\n",
      "  0.00000000e+00  0.00000000e+00  0.00000000e+00  0.00000000e+00\n",
      "  0.00000000e+00  0.00000000e+00  0.00000000e+00  0.00000000e+00\n",
      "  0.00000000e+00  0.00000000e+00  0.00000000e+00  0.00000000e+00\n",
      "  0.00000000e+00  0.00000000e+00  0.00000000e+00  0.00000000e+00\n",
      "  0.00000000e+00  0.00000000e+00  0.00000000e+00  0.00000000e+00\n",
      "  0.00000000e+00  0.00000000e+00  0.00000000e+00  0.00000000e+00\n",
      "  0.00000000e+00  0.00000000e+00  0.00000000e+00  0.00000000e+00\n",
      "  0.00000000e+00  0.00000000e+00  0.00000000e+00  0.00000000e+00\n",
      "  0.00000000e+00  0.00000000e+00  0.00000000e+00  0.00000000e+00\n",
      "  0.00000000e+00  0.00000000e+00  0.00000000e+00  0.00000000e+00\n",
      "  0.00000000e+00] < -1212.658047171521\n"
     ]
    }
   ],
   "source": [
    "for r in range(1):\n",
    "    print(A[r],direction[r],rhs[r])"
   ]
  },
  {
   "cell_type": "code",
   "execution_count": 53,
   "id": "d884a0ba",
   "metadata": {},
   "outputs": [],
   "source": [
    "spMod = gp.Model()\n",
    "spMod_x = spMod.addMVar(len(obj),lb=lb) # tell the model how many variables there are\n",
    "# must define the variables before adding constraints because variables go into the constraints\n",
    "spMod_con = spMod.addMConstrs(A, spMod_x, direction, rhs) # NAME THE CONSTRAINTS!!! so we can get information about them later!\n",
    "spMod.setMObjective(None,obj,0,sense=gp.GRB.MAXIMIZE) # add the objective to the model...we'll talk about the None and the 0\n",
    "\n",
    "spMod.Params.OutputFlag = 0 # tell gurobi to shut up!!\n",
    "spMod.optimize()"
   ]
  },
  {
   "cell_type": "code",
   "execution_count": 54,
   "id": "e0baf031",
   "metadata": {},
   "outputs": [
    {
     "data": {
      "text/plain": [
       "471.8653795908935"
      ]
     },
     "execution_count": 54,
     "metadata": {},
     "output_type": "execute_result"
    }
   ],
   "source": [
    "spMod_x.x[0]"
   ]
  },
  {
   "cell_type": "code",
   "execution_count": 56,
   "id": "c048f4ee",
   "metadata": {},
   "outputs": [
    {
     "data": {
      "text/plain": [
       "231.4836666471413"
      ]
     },
     "execution_count": 56,
     "metadata": {},
     "output_type": "execute_result"
    }
   ],
   "source": [
    "spMod.objval"
   ]
  },
  {
   "cell_type": "markdown",
   "id": "8b987920",
   "metadata": {},
   "source": [
    "#### Q4 - Price impacts Demand"
   ]
  },
  {
   "cell_type": "markdown",
   "id": "caf53f87",
   "metadata": {},
   "source": [
    "#### Solving it using QP"
   ]
  },
  {
   "cell_type": "code",
   "execution_count": 99,
   "id": "e65f159b",
   "metadata": {},
   "outputs": [
    {
     "data": {
      "text/plain": [
       "LinearRegression()"
      ]
     },
     "execution_count": 99,
     "metadata": {},
     "output_type": "execute_result"
    }
   ],
   "source": [
    "lr = LinearRegression()\n",
    "lr.fit(price_demand_df[['price']],price_demand_df.demand.values)"
   ]
  },
  {
   "cell_type": "code",
   "execution_count": 100,
   "id": "7889177e",
   "metadata": {},
   "outputs": [
    {
     "name": "stderr",
     "output_type": "stream",
     "text": [
      "<ipython-input-100-ada8a0c23341>:23: DeprecationWarning: setting an array element with a sequence. This was supported in some cases where the elements are arrays with a single element. For example `np.array([1, np.array([2])], dtype=int)`. In the future this will raise the same ValueError as `np.array([1, [2]], dtype=int)`.\n",
      "  A[2*r,[0,1,r+2]] = [g*lr.coef_,c-g,1] # location 1 is q, location r+1 is this h\n",
      "<ipython-input-100-ada8a0c23341>:25: DeprecationWarning: setting an array element with a sequence. This was supported in some cases where the elements are arrays with a single element. For example `np.array([1, np.array([2])], dtype=int)`. In the future this will raise the same ValueError as `np.array([1, [2]], dtype=int)`.\n",
      "  A[2*r+1,[0,1,r+2]] = [-t*lr.coef_,c+t,1]\n"
     ]
    }
   ],
   "source": [
    "# obj func would be (p,q,h1,h2....h99)\n",
    "Q = np.zeros((2+nd,2+nd))\n",
    "Q[0,0] = lr.coef_\n",
    "#Q\n",
    "\n",
    "linear_obj = np.zeros(2+nd)\n",
    "linear_obj[0] = lr.intercept_+np.mean(resid)\n",
    "linear_obj[2:] = 1.0/nd\n",
    "#linear_obj\n",
    "\n",
    "lb = np.zeros(nd+2)\n",
    "lb[2:] = -np.inf # quantity printed needs to be non-negative, but profit on a given day could possibly be negative\n",
    "\n",
    "ub = np.zeros(nd+2)\n",
    "ub[0:2] = np.inf\n",
    "\n",
    "A.shape\n",
    "\n",
    "A = np.zeros((2*nd,nd+2))\n",
    "rhs = np.zeros(2*nd)\n",
    "direction = ['<']*(2*nd)\n",
    "for r in range(nd):\n",
    "    A[2*r,[0,1,r+2]] = [g*lr.coef_,c-g,1] # location 1 is q, location r+1 is this h\n",
    "    rhs[2*r] = -g*(lr.intercept_+resid[r])\n",
    "    A[2*r+1,[0,1,r+2]] = [-t*lr.coef_,c+t,1]\n",
    "    rhs[2*r+1] = (t)*(lr.intercept_+resid[r])"
   ]
  },
  {
   "cell_type": "code",
   "execution_count": 101,
   "id": "ca739f3e",
   "metadata": {},
   "outputs": [
    {
     "name": "stdout",
     "output_type": "stream",
     "text": [
      "234.4249348783187\n",
      "0.9536264966232614\n",
      "535.2910012788706\n"
     ]
    }
   ],
   "source": [
    "#solving the optimization problem \n",
    "miqp_mod = gp.Model()\n",
    "miqp_mod_x = miqp_mod.addMVar(nd+2, lb = lb)\n",
    "miqp_mod_con = miqp_mod.addMConstrs(A, miqp_mod_x, direction, rhs)\n",
    "miqp_mod.setMObjective(Q,linear_obj,0,sense=gp.GRB.MAXIMIZE)\n",
    "miqp_mod.Params.OutputFlag = 0 \n",
    "miqp_mod.optimize()\n",
    "\n",
    "print(miqp_mod.ObjVal)\n",
    "\n",
    "print(miqp_mod_x.x[0])\n",
    "\n",
    "print(miqp_mod_x.x[1])"
   ]
  },
  {
   "cell_type": "markdown",
   "id": "2ef36a09",
   "metadata": {},
   "source": [
    "##### Solving it using NLP"
   ]
  },
  {
   "cell_type": "code",
   "execution_count": 78,
   "id": "467fc12a",
   "metadata": {},
   "outputs": [],
   "source": [
    "# decision variables are (q, h1, h2, ..., h25)\n",
    "obj = np.zeros(nd+1)\n",
    "obj[1:] = 1.0/nd\n",
    "lb = np.zeros(nd+1)\n",
    "lb[1:] = -np.inf # quantity printed needs to be non-negative, but profit on a given day could possibly be negative\n",
    "rhs = np.zeros(2*nd)\n",
    "direction = np.array(['<']*(2*nd))"
   ]
  },
  {
   "cell_type": "code",
   "execution_count": 79,
   "id": "69a3f639",
   "metadata": {},
   "outputs": [],
   "source": [
    "A = np.zeros((2*nd,nd+1))\n",
    "for r in range(nd):\n",
    "    A[2*r,[0,r+1]] = [c+t,1] # location 1 is q, location r+1 is this h\n",
    "    rhs[2*r] = (price_demand_df.iloc[r,0]+t)*price_demand_df.iloc[r,1]\n",
    "    A[2*r+1,[0,r+1]] = [c-g,1]\n",
    "    rhs[2*r+1] = (price_demand_df.iloc[r,0]-g)*price_demand_df.iloc[r,1]"
   ]
  },
  {
   "cell_type": "code",
   "execution_count": 121,
   "id": "5582447a",
   "metadata": {},
   "outputs": [
    {
     "name": "stdout",
     "output_type": "stream",
     "text": [
      "[-9.44524325e+02 -2.50000000e-01  1.00000000e+00  0.00000000e+00\n",
      "  0.00000000e+00  0.00000000e+00  0.00000000e+00  0.00000000e+00\n",
      "  0.00000000e+00  0.00000000e+00  0.00000000e+00  0.00000000e+00\n",
      "  0.00000000e+00  0.00000000e+00  0.00000000e+00  0.00000000e+00\n",
      "  0.00000000e+00  0.00000000e+00  0.00000000e+00  0.00000000e+00\n",
      "  0.00000000e+00  0.00000000e+00  0.00000000e+00  0.00000000e+00\n",
      "  0.00000000e+00  0.00000000e+00  0.00000000e+00  0.00000000e+00\n",
      "  0.00000000e+00  0.00000000e+00  0.00000000e+00  0.00000000e+00\n",
      "  0.00000000e+00  0.00000000e+00  0.00000000e+00  0.00000000e+00\n",
      "  0.00000000e+00  0.00000000e+00  0.00000000e+00  0.00000000e+00\n",
      "  0.00000000e+00  0.00000000e+00  0.00000000e+00  0.00000000e+00\n",
      "  0.00000000e+00  0.00000000e+00  0.00000000e+00  0.00000000e+00\n",
      "  0.00000000e+00  0.00000000e+00  0.00000000e+00  0.00000000e+00\n",
      "  0.00000000e+00  0.00000000e+00  0.00000000e+00  0.00000000e+00\n",
      "  0.00000000e+00  0.00000000e+00  0.00000000e+00  0.00000000e+00\n",
      "  0.00000000e+00  0.00000000e+00  0.00000000e+00  0.00000000e+00\n",
      "  0.00000000e+00  0.00000000e+00  0.00000000e+00  0.00000000e+00\n",
      "  0.00000000e+00  0.00000000e+00  0.00000000e+00  0.00000000e+00\n",
      "  0.00000000e+00  0.00000000e+00  0.00000000e+00  0.00000000e+00\n",
      "  0.00000000e+00  0.00000000e+00  0.00000000e+00  0.00000000e+00\n",
      "  0.00000000e+00  0.00000000e+00  0.00000000e+00  0.00000000e+00\n",
      "  0.00000000e+00  0.00000000e+00  0.00000000e+00  0.00000000e+00\n",
      "  0.00000000e+00  0.00000000e+00  0.00000000e+00  0.00000000e+00\n",
      "  0.00000000e+00  0.00000000e+00  0.00000000e+00  0.00000000e+00\n",
      "  0.00000000e+00  0.00000000e+00  0.00000000e+00  0.00000000e+00\n",
      "  0.00000000e+00] < -1212.658047171521\n"
     ]
    }
   ],
   "source": [
    "for r in range(1):\n",
    "    print(A[r],direction[r],rhs[r])"
   ]
  },
  {
   "cell_type": "code",
   "execution_count": 81,
   "id": "cfe5da85",
   "metadata": {},
   "outputs": [],
   "source": [
    "spMod = gp.Model()\n",
    "spMod_x = spMod.addMVar(len(obj),lb=lb) # tell the model how many variables there are\n",
    "# must define the variables before adding constraints because variables go into the constraints\n",
    "spMod_con = spMod.addMConstrs(A, spMod_x, direction, rhs) # NAME THE CONSTRAINTS!!! so we can get information about them later!\n",
    "spMod.setMObjective(None,obj,0,sense=gp.GRB.MAXIMIZE) # add the objective to the model...we'll talk about the None and the 0\n",
    "\n",
    "spMod.Params.OutputFlag = 0 # tell gurobi to shut up!!\n",
    "spMod.optimize()\n"
   ]
  },
  {
   "cell_type": "code",
   "execution_count": 82,
   "id": "7bb2e576",
   "metadata": {},
   "outputs": [
    {
     "data": {
      "text/plain": [
       "357.99999999999994"
      ]
     },
     "execution_count": 82,
     "metadata": {},
     "output_type": "execute_result"
    }
   ],
   "source": [
    "spMod_x.x[0]"
   ]
  },
  {
   "cell_type": "code",
   "execution_count": 85,
   "id": "f4c93fd0",
   "metadata": {},
   "outputs": [
    {
     "data": {
      "text/plain": [
       "183.96808080808086"
      ]
     },
     "execution_count": 85,
     "metadata": {},
     "output_type": "execute_result"
    }
   ],
   "source": [
    "spMod.objval"
   ]
  },
  {
   "cell_type": "markdown",
   "id": "7a3b0fba",
   "metadata": {},
   "source": [
    "#### Bootstrapping"
   ]
  },
  {
   "cell_type": "code",
   "execution_count": 102,
   "id": "a124b916",
   "metadata": {},
   "outputs": [],
   "source": [
    "def bootstrap_df(df):\n",
    "    price = []\n",
    "    demand = []\n",
    "    for i in range(len(price_demand_df)):\n",
    "        p,d = price_demand_df.iloc[np.random.choice(price_demand_df.index),:]\n",
    "        price.append(p)\n",
    "        demand.append(d)\n",
    "    \n",
    "    return price,demand"
   ]
  },
  {
   "cell_type": "code",
   "execution_count": 103,
   "id": "ad604b0d",
   "metadata": {},
   "outputs": [],
   "source": [
    "price,demand = bootstrap_df(price_demand_df)\n",
    "\n",
    "lr = LinearRegression()\n",
    "lr.fit(np.array(price).reshape(-1,1),demand)\n",
    "\n",
    "# obj func would be (p,q,h1,h2....h99)\n",
    "Q = np.zeros((2+nd,2+nd))\n",
    "Q[0,0] = lr.coef_\n",
    "#Q\n",
    "\n",
    "linear_obj = np.zeros(2+nd)\n",
    "linear_obj[0] = lr.intercept_+np.mean(resid)\n",
    "linear_obj[2:] = 1.0/nd\n",
    "#linear_obj\n",
    "\n",
    "lb = np.zeros(nd+2)\n",
    "lb[2:] = -np.inf # quantity printed needs to be non-negative, but profit on a given day could possibly be negative\n",
    "\n",
    "ub = np.zeros(nd+2)\n",
    "ub[0:2] = np.inf\n",
    "\n",
    "A.shape\n",
    "\n",
    "A = np.zeros((2*nd,nd+2))\n",
    "rhs = np.zeros(2*nd)\n",
    "direction = ['<']*(2*nd)\n",
    "for r in range(nd):\n",
    "    A[2*r,[0,1,r+2]] = [g*lr.coef_,c-g,1] # location 1 is q, location r+1 is this h\n",
    "    rhs[2*r] = -g*(lr.intercept_+resid[r])\n",
    "    A[2*r+1,[0,1,r+2]] = [-t*lr.coef_,c+t,1]\n",
    "    rhs[2*r+1] = (t)*(lr.intercept_+resid[r])\n",
    "\n",
    "#solving the optimization problem \n",
    "miqp_mod = gp.Model()\n",
    "miqp_mod_x = miqp_mod.addMVar(nd+2, lb = lb)\n",
    "miqp_mod_con = miqp_mod.addMConstrs(A, miqp_mod_x, direction, rhs)\n",
    "miqp_mod.setMObjective(Q,linear_obj,0,sense=gp.GRB.MAXIMIZE)\n",
    "miqp_mod.Params.OutputFlag = 0 \n",
    "miqp_mod.optimize()\n",
    "\n",
    "print(miqp_mod.ObjVal)\n",
    "\n",
    "print(miqp_mod_x.x[0])\n",
    "\n",
    "print(miqp_mod_x.x[1])"
   ]
  },
  {
   "cell_type": "code",
   "execution_count": null,
   "id": "ada66ca0",
   "metadata": {},
   "outputs": [],
   "source": [
    "nsim = 1000\n",
    "optimal_price = []\n",
    "optimal_quantity = []\n",
    "for sim in range(nsim):\n",
    "    price,demand = bootstrap_df(price_demand_df)\n",
    "\n",
    "    lr = LinearRegression()\n",
    "    lr.fit(np.array(price).reshape(-1,1),demand)\n",
    "\n",
    "    # obj func would be (p,q,h1,h2....h99)\n",
    "    Q = np.zeros((2+nd,2+nd))\n",
    "    Q[0,0] = lr.coef_\n",
    "    #Q\n",
    "\n",
    "    linear_obj = np.zeros(2+nd)\n",
    "    linear_obj[0] = lr.intercept_+np.mean(resid)\n",
    "    linear_obj[2:] = 1.0/nd\n",
    "    #linear_obj\n",
    "\n",
    "    lb = np.zeros(nd+2)\n",
    "    lb[2:] = -np.inf # quantity printed needs to be non-negative, but profit on a given day could possibly be negative\n",
    "\n",
    "    ub = np.zeros(nd+2)\n",
    "    ub[0:2] = np.inf\n",
    "\n",
    "    A.shape\n",
    "\n",
    "    A = np.zeros((2*nd,nd+2))\n",
    "    rhs = np.zeros(2*nd)\n",
    "    direction = ['<']*(2*nd)\n",
    "    for r in range(nd):\n",
    "        A[2*r,[0,1,r+2]] = [g*lr.coef_,c-g,1] # location 1 is q, location r+1 is this h\n",
    "        rhs[2*r] = -g*(lr.intercept_+resid[r])\n",
    "        A[2*r+1,[0,1,r+2]] = [-t*lr.coef_,c+t,1]\n",
    "        rhs[2*r+1] = (t)*(lr.intercept_+resid[r])\n",
    "\n",
    "    #solving the optimization problem \n",
    "    miqp_mod = gp.Model()\n",
    "    miqp_mod_x = miqp_mod.addMVar(nd+2, lb = lb)\n",
    "    miqp_mod_con = miqp_mod.addMConstrs(A, miqp_mod_x, direction, rhs)\n",
    "    miqp_mod.setMObjective(Q,linear_obj,0,sense=gp.GRB.MAXIMIZE)\n",
    "    miqp_mod.Params.OutputFlag = 0 \n",
    "    miqp_mod.optimize()\n",
    "\n",
    "    print(miqp_mod.ObjVal)\n",
    "\n",
    "    print(miqp_mod_x.x[0])\n",
    "\n",
    "    print(miqp_mod_x.x[1])\n",
    "    \n",
    "    optimal_price.append(miqp_mod_x.x[0])\n",
    "    optimal_quantity.append(miqp_mod_x.x[1])\n",
    "   "
   ]
  },
  {
   "cell_type": "code",
   "execution_count": 108,
   "id": "d71eff81",
   "metadata": {},
   "outputs": [
    {
     "data": {
      "text/plain": [
       "(array([ 26.,  82., 151., 261., 237., 140.,  61.,  35.,   6.,   1.]),\n",
       " array([0.92042538, 0.92913895, 0.93785252, 0.9465661 , 0.95527967,\n",
       "        0.96399324, 0.97270681, 0.98142038, 0.99013396, 0.99884753,\n",
       "        1.0075611 ]),\n",
       " <BarContainer object of 10 artists>)"
      ]
     },
     "execution_count": 108,
     "metadata": {},
     "output_type": "execute_result"
    },
    {
     "data": {
      "image/png": "[encoded data removed]",
      "text/plain": [
       "<Figure size 432x288 with 1 Axes>"
      ]
     },
     "metadata": {
      "needs_background": "light"
     },
     "output_type": "display_data"
    }
   ],
   "source": [
    "plt.hist(optimal_price)"
   ]
  },
  {
   "cell_type": "code",
   "execution_count": 109,
   "id": "5df6591b",
   "metadata": {},
   "outputs": [
    {
     "data": {
      "text/plain": [
       "(array([ 14.,  23.,  70., 177., 229., 250., 154.,  59.,  17.,   7.]),\n",
       " array([445.75362963, 463.79566436, 481.83769908, 499.8797338 ,\n",
       "        517.92176852, 535.96380324, 554.00583796, 572.04787268,\n",
       "        590.08990741, 608.13194213, 626.17397685]),\n",
       " <BarContainer object of 10 artists>)"
      ]
     },
     "execution_count": 109,
     "metadata": {},
     "output_type": "execute_result"
    },
    {
     "data": {
      "image/png": "[encoded data removed]",
      "text/plain": [
       "<Figure size 432x288 with 1 Axes>"
      ]
     },
     "metadata": {
      "needs_background": "light"
     },
     "output_type": "display_data"
    }
   ],
   "source": [
    "plt.hist(optimal_quantity)"
   ]
  },
  {
   "cell_type": "code",
   "execution_count": 110,
   "id": "ff11d435",
   "metadata": {},
   "outputs": [],
   "source": [
    "import seaborn as sns"
   ]
  },
  {
   "cell_type": "code",
   "execution_count": 117,
   "id": "5e2901c0",
   "metadata": {},
   "outputs": [
    {
     "name": "stderr",
     "output_type": "stream",
     "text": [
      "C:\\Users\\prakh\\anaconda3\\lib\\site-packages\\seaborn\\_decorators.py:36: FutureWarning: Pass the following variables as keyword args: x, y. From version 0.12, the only valid positional argument will be `data`, and passing other arguments without an explicit keyword will result in an error or misinterpretation.\n",
      "  warnings.warn(\n"
     ]
    },
    {
     "data": {
      "text/plain": [
       "<seaborn.axisgrid.JointGrid at 0x1b78ea1aa30>"
      ]
     },
     "execution_count": 117,
     "metadata": {},
     "output_type": "execute_result"
    },
    {
     "data": {
      "image/png": "[encoded data removed]",
      "text/plain": [
       "<Figure size 432x432 with 3 Axes>"
      ]
     },
     "metadata": {
      "needs_background": "light"
     },
     "output_type": "display_data"
    }
   ],
   "source": [
    "sns.jointplot(optimal_price,optimal_quantity,color='red',kind='scatter')"
   ]
  },
  {
   "cell_type": "code",
   "execution_count": null,
   "id": "66281255",
   "metadata": {},
   "outputs": [],
   "source": []
  }
 ],
 "metadata": {
  "kernelspec": {
   "display_name": "Python 3",
   "language": "python",
   "name": "python3"
  },
  "language_info": {
   "codemirror_mode": {
    "name": "ipython",
    "version": 3
   },
   "file_extension": ".py",
   "mimetype": "text/x-python",
   "name": "python",
   "nbconvert_exporter": "python",
   "pygments_lexer": "ipython3",
   "version": "3.8.8"
  }
 },
 "nbformat": 4,
 "nbformat_minor": 5
}
